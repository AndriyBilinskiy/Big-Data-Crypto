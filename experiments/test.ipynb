{
 "cells": [
  {
   "metadata": {},
   "cell_type": "code",
   "outputs": [],
   "execution_count": null,
   "source": [
    "\n",
    "import ssl\n",
    "\n",
    "import websocket\n",
    "import json\n",
    "\n",
    "\n",
    "def on_message(ws, message):\n",
    "    data = json.loads(message)\n",
    "    print(f\"Received message: {data}\")\n",
    "\n",
    "\n",
    "def on_error(ws, error):\n",
    "    print(f\"Error: {error}\")\n",
    "\n",
    "\n",
    "def on_close(ws, close_status_code, close_msg):\n",
    "    print(f\"WebSocket closed with code: {close_status_code}, message: {close_msg}\")\n",
    "\n",
    "\n",
    "def on_open(ws):\n",
    "    print(\"WebSocket connection opened\")\n",
    "\n",
    "\n",
    "if __name__ == \"__main__\":\n",
    "    # Enable WebSocket trace logging\n",
    "    websocket.enableTrace(True)\n",
    "\n",
    "    ws = websocket.WebSocketApp(\n",
    "        \"wss://stream.binance.com:9443/ws/btcusdt@trade\",\n",
    "        on_open=on_open,\n",
    "        on_message=on_message,\n",
    "        on_error=on_error,\n",
    "        on_close=on_close\n",
    "    )\n",
    "\n",
    "    # Suppress SSL certificate verification (Not recommended for production)\n",
    "    ws.run_forever(sslopt={\"cert_reqs\": ssl.CERT_NONE})"
   ],
   "id": "fb0e6665b681179b"
  },
  {
   "metadata": {
    "ExecuteTime": {
     "end_time": "2024-12-05T20:39:36.081928Z",
     "start_time": "2024-12-05T20:39:34.858483Z"
    }
   },
   "cell_type": "code",
   "source": "!pip install websocket-client",
   "id": "8013e63d27034983",
   "outputs": [
    {
     "name": "stdout",
     "output_type": "stream",
     "text": [
      "Requirement already satisfied: websocket-client in ./.venv/lib/python3.12/site-packages (1.8.0)\r\n",
      "\r\n",
      "\u001B[1m[\u001B[0m\u001B[34;49mnotice\u001B[0m\u001B[1;39;49m]\u001B[0m\u001B[39;49m A new release of pip is available: \u001B[0m\u001B[31;49m23.2.1\u001B[0m\u001B[39;49m -> \u001B[0m\u001B[32;49m24.3.1\u001B[0m\r\n",
      "\u001B[1m[\u001B[0m\u001B[34;49mnotice\u001B[0m\u001B[1;39;49m]\u001B[0m\u001B[39;49m To update, run: \u001B[0m\u001B[32;49mpip install --upgrade pip\u001B[0m\r\n"
     ]
    }
   ],
   "execution_count": 1
  },
  {
   "metadata": {
    "ExecuteTime": {
     "end_time": "2024-12-06T09:40:36.134842Z",
     "start_time": "2024-12-06T09:28:36.391264Z"
    }
   },
   "cell_type": "code",
   "source": "!pip install pyspark",
   "id": "404b3fc2f6793d13",
   "outputs": [
    {
     "name": "stdout",
     "output_type": "stream",
     "text": [
      "Collecting pyspark\r\n",
      "  Downloading pyspark-3.5.3.tar.gz (317.3 MB)\r\n",
      "\u001B[2K     \u001B[90m━━━━━━━━━━━━━━━━━━━━━━━━━━━━━━━━━━━━━\u001B[0m \u001B[32m317.3/317.3 MB\u001B[0m \u001B[31m141.1 kB/s\u001B[0m eta \u001B[36m0:00:00\u001B[0m00:01\u001B[0m00:29\u001B[0m\r\n",
      "\u001B[?25h  Installing build dependencies ... \u001B[?25ldone\r\n",
      "\u001B[?25h  Getting requirements to build wheel ... \u001B[?25ldone\r\n",
      "\u001B[?25h  Preparing metadata (pyproject.toml) ... \u001B[?25ldone\r\n",
      "\u001B[?25hCollecting py4j==0.10.9.7 (from pyspark)\r\n",
      "  Obtaining dependency information for py4j==0.10.9.7 from https://files.pythonhosted.org/packages/10/30/a58b32568f1623aaad7db22aa9eafc4c6c194b429ff35bdc55ca2726da47/py4j-0.10.9.7-py2.py3-none-any.whl.metadata\r\n",
      "  Downloading py4j-0.10.9.7-py2.py3-none-any.whl.metadata (1.5 kB)\r\n",
      "Downloading py4j-0.10.9.7-py2.py3-none-any.whl (200 kB)\r\n",
      "\u001B[2K   \u001B[90m━━━━━━━━━━━━━━━━━━━━━━━━━━━━━━━━━━━━━━━\u001B[0m \u001B[32m200.5/200.5 kB\u001B[0m \u001B[31m314.3 kB/s\u001B[0m eta \u001B[36m0:00:00\u001B[0ma \u001B[36m0:00:01\u001B[0m\r\n",
      "\u001B[?25hBuilding wheels for collected packages: pyspark\r\n",
      "  Building wheel for pyspark (pyproject.toml) ... \u001B[?25ldone\r\n",
      "\u001B[?25h  Created wheel for pyspark: filename=pyspark-3.5.3-py2.py3-none-any.whl size=317840629 sha256=ee5a3300f2d21404cccee5eb656e1ac487ea3d15ef592939590fd1a3337a4018\r\n",
      "  Stored in directory: /Users/andriy/Library/Caches/pip/wheels/07/a0/a3/d24c94bf043ab5c7e38c30491199a2a11fef8d2584e6df7fb7\r\n",
      "Successfully built pyspark\r\n",
      "Installing collected packages: py4j, pyspark\r\n",
      "Successfully installed py4j-0.10.9.7 pyspark-3.5.3\r\n",
      "\r\n",
      "\u001B[1m[\u001B[0m\u001B[34;49mnotice\u001B[0m\u001B[1;39;49m]\u001B[0m\u001B[39;49m A new release of pip is available: \u001B[0m\u001B[31;49m23.2.1\u001B[0m\u001B[39;49m -> \u001B[0m\u001B[32;49m24.3.1\u001B[0m\r\n",
      "\u001B[1m[\u001B[0m\u001B[34;49mnotice\u001B[0m\u001B[1;39;49m]\u001B[0m\u001B[39;49m To update, run: \u001B[0m\u001B[32;49mpip install --upgrade pip\u001B[0m\r\n"
     ]
    }
   ],
   "execution_count": 7
  },
  {
   "metadata": {
    "ExecuteTime": {
     "end_time": "2024-12-06T09:42:05.338250Z",
     "start_time": "2024-12-06T09:41:58.079996Z"
    }
   },
   "cell_type": "code",
   "source": [
    "from pyspark.sql import SparkSession\n",
    "\n",
    "# Create a Spark session\n",
    "spark = SparkSession.builder \\\n",
    "    .appName(\"LocalSparkExample\") \\\n",
    "    .master(\"local[1]\") \\\n",
    "    .getOrCreate()\n",
    "\n",
    "# Example operation\n",
    "data = [(\"Alice\", 29), (\"Bob\", 31), (\"Cathy\", 24)]\n",
    "columns = [\"Name\", \"Age\"]\n",
    "df = spark.createDataFrame(data, columns)\n",
    "\n",
    "df.show()\n",
    "\n",
    "# Stop the session\n",
    "spark.stop()"
   ],
   "id": "190ea86c6f32267b",
   "outputs": [
    {
     "name": "stderr",
     "output_type": "stream",
     "text": [
      "24/12/06 11:42:00 WARN Utils: Your hostname, Tarass-MacBook-Pro.local resolves to a loopback address: 127.0.0.1; using 10.10.246.174 instead (on interface en0)\n",
      "24/12/06 11:42:00 WARN Utils: Set SPARK_LOCAL_IP if you need to bind to another address\n",
      "Setting default log level to \"WARN\".\n",
      "To adjust logging level use sc.setLogLevel(newLevel). For SparkR, use setLogLevel(newLevel).\n",
      "24/12/06 11:42:01 WARN NativeCodeLoader: Unable to load native-hadoop library for your platform... using builtin-java classes where applicable\n",
      "                                                                                \r"
     ]
    },
    {
     "name": "stdout",
     "output_type": "stream",
     "text": [
      "+-----+---+\n",
      "| Name|Age|\n",
      "+-----+---+\n",
      "|Alice| 29|\n",
      "|  Bob| 31|\n",
      "|Cathy| 24|\n",
      "+-----+---+\n",
      "\n"
     ]
    }
   ],
   "execution_count": 9
  },
  {
   "metadata": {},
   "cell_type": "code",
   "outputs": [],
   "execution_count": null,
   "source": [
    "import websocket\n",
    "import json\n",
    "from queue import Queue\n",
    "import threading\n",
    "\n",
    "# Thread-safe queue\n",
    "message_queue = Queue()\n",
    "\n",
    "def on_message(ws, message):\n",
    "    data = json.loads(message)\n",
    "    message_queue.put(data)\n",
    "\n",
    "def on_error(ws, error):\n",
    "    print(f\"WebSocket error: {error}\")\n",
    "\n",
    "def on_close(ws, close_status_code, close_msg):\n",
    "    print(f\"WebSocket closed with code: {close_status_code}, message: {close_msg}\")\n",
    "\n",
    "def on_open(ws):\n",
    "    print(\"WebSocket connection opened\")\n",
    "\n",
    "    \n",
    "from pyspark.sql import SparkSession\n",
    "from pyspark.sql.types import StructType, StringType, FloatType, LongType, StructField\n",
    "import json\n",
    "import time\n",
    "from queue import Queue\n",
    "\n",
    "# Define schema for incoming WebSocket messages\n",
    "schema = StructType([\n",
    "    StructField(\"e\", StringType(), True),  # Event type\n",
    "    StructField(\"E\", StringType(), True),   # Event time\n",
    "    StructField(\"s\", StringType(), True), # Symbol\n",
    "    StructField(\"t\", StringType(), True),   # Trade ID\n",
    "    StructField(\"p\", StringType(), True),  # Price\n",
    "    StructField(\"q\", StringType(), True),  # Quantity\n",
    "    StructField(\"b\", StringType(), True),   # Buyer order ID\n",
    "    StructField(\"a\", StringType(), True),   # Seller order ID\n",
    "    StructField(\"T\", StringType(), True),   # Trade time\n",
    "    StructField(\"m\", StringType(), True), # Is buyer the market maker?\n",
    "    StructField(\"M\", StringType(), True)  # Ignore\n",
    "])\n",
    "\n",
    "# Initialize Spark Session\n",
    "spark = SparkSession.builder \\\n",
    "    .appName(\"WebSocket Stream Processing\") \\\n",
    "    .getOrCreate()\n",
    "\n",
    "# Empty DataFrame to start\n",
    "df = spark.createDataFrame([], schema)\n",
    "\n",
    "# Thread-safe queue from WebSocket client\n",
    "message_queue = Queue()\n",
    "\n",
    "def update_dataframe(queue):\n",
    "    global df\n",
    "    batch = []\n",
    "    while not queue.empty():\n",
    "        message = queue.get()\n",
    "        batch.append(message)\n",
    "    if batch:\n",
    "        # Create a new DataFrame and union with the existing one\n",
    "        new_df = spark.createDataFrame(batch, schema=schema)\n",
    "        df = df.union(new_df)\n",
    "        df.show(truncate=False)\n",
    "\n",
    "# Poll queue periodically and update DataFrame\n",
    "ws = websocket.WebSocketApp(\n",
    "        \"wss://stream.binance.com:9443/ws/btcusdt@trade\",\n",
    "        on_open=on_open,\n",
    "        on_message=on_message,\n",
    "        on_error=on_error,\n",
    "        on_close=on_close\n",
    "    )\n",
    "threading.Thread(target=ws.run_forever, kwargs={\"sslopt\": {\"cert_reqs\": ssl.CERT_NONE}}).start()\n",
    "while True:\n",
    "    update_dataframe(message_queue)\n",
    "    time.sleep(1)"
   ],
   "id": "4cb69a4a1cd50bd7"
  },
  {
   "metadata": {},
   "cell_type": "code",
   "source": "!pip install kafka-python",
   "id": "730702bc7a061a8f",
   "outputs": [],
   "execution_count": 25
  },
  {
   "metadata": {
    "ExecuteTime": {
     "end_time": "2024-12-06T10:19:08.148985Z",
     "start_time": "2024-12-06T10:19:08.148902Z"
    }
   },
   "cell_type": "code",
   "source": [
    "from kafka import KafkaProducer, KafkaConsumer\n",
    "\n",
    "# Connect to Kafka broker\n",
    "producer = KafkaProducer(bootstrap_servers='localhost:9092')\n",
    "\n",
    "# Produce a message\n",
    "producer.send('my_topic', value=b'Hello Kafka')\n",
    "\n",
    "# Connect to Kafka consumer\n",
    "consumer = KafkaConsumer('my_topic', bootstrap_servers='localhost:9092')\n",
    "\n",
    "# Consume messages\n",
    "for msg in consumer:\n",
    "    print(msg.value)"
   ],
   "id": "f5f0b2c23495370c",
   "outputs": [],
   "execution_count": null
  },
  {
   "metadata": {
    "ExecuteTime": {
     "end_time": "2024-12-06T10:20:16.168963Z",
     "start_time": "2024-12-06T10:20:16.057519Z"
    }
   },
   "cell_type": "code",
   "source": "df.show()",
   "id": "ba46bdd0ee6345b8",
   "outputs": [
    {
     "name": "stdout",
     "output_type": "stream",
     "text": [
      "+---+---+---+---+---+---+---+---+---+---+---+\n",
      "|  e|  E|  s|  t|  p|  q|  b|  a|  T|  m|  M|\n",
      "+---+---+---+---+---+---+---+---+---+---+---+\n",
      "+---+---+---+---+---+---+---+---+---+---+---+\n",
      "\n"
     ]
    }
   ],
   "execution_count": 18
  }
 ],
 "metadata": {
  "kernelspec": {
   "display_name": "Python 3",
   "language": "python",
   "name": "python3"
  },
  "language_info": {
   "codemirror_mode": {
    "name": "ipython",
    "version": 2
   },
   "file_extension": ".py",
   "mimetype": "text/x-python",
   "name": "python",
   "nbconvert_exporter": "python",
   "pygments_lexer": "ipython2",
   "version": "2.7.6"
  }
 },
 "nbformat": 4,
 "nbformat_minor": 5
}
